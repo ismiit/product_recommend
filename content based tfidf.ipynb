{
 "cells": [
  {
   "cell_type": "code",
   "execution_count": 52,
   "id": "71f51bec",
   "metadata": {},
   "outputs": [],
   "source": [
    "import numpy as np\n",
    "import pandas as pd\n",
    "import re\n",
    "import nltk\n",
    "import matplotlib.pyplot as plt\n",
    "import seaborn as sns\n",
    "from nltk.stem import PorterStemmer\n",
    "from nltk.tokenize import word_tokenize\n",
    "from sklearn.feature_extraction.text import TfidfVectorizer\n",
    "from sklearn.feature_extraction.text import CountVectorizer\n",
    "from sklearn.metrics.pairwise import cosine_similarity"
   ]
  },
  {
   "cell_type": "code",
   "execution_count": 2,
   "id": "d969e76e",
   "metadata": {},
   "outputs": [
    {
     "data": {
      "text/html": [
       "<div>\n",
       "<style scoped>\n",
       "    .dataframe tbody tr th:only-of-type {\n",
       "        vertical-align: middle;\n",
       "    }\n",
       "\n",
       "    .dataframe tbody tr th {\n",
       "        vertical-align: top;\n",
       "    }\n",
       "\n",
       "    .dataframe thead th {\n",
       "        text-align: right;\n",
       "    }\n",
       "</style>\n",
       "<table border=\"1\" class=\"dataframe\">\n",
       "  <thead>\n",
       "    <tr style=\"text-align: right;\">\n",
       "      <th></th>\n",
       "      <th>uniq_id</th>\n",
       "      <th>crawl_timestamp</th>\n",
       "      <th>product_url</th>\n",
       "      <th>product_name</th>\n",
       "      <th>product_category_tree</th>\n",
       "      <th>pid</th>\n",
       "      <th>retail_price</th>\n",
       "      <th>discounted_price</th>\n",
       "      <th>image</th>\n",
       "      <th>is_FK_Advantage_product</th>\n",
       "      <th>description</th>\n",
       "      <th>product_rating</th>\n",
       "      <th>overall_rating</th>\n",
       "      <th>brand</th>\n",
       "      <th>product_specifications</th>\n",
       "    </tr>\n",
       "  </thead>\n",
       "  <tbody>\n",
       "    <tr>\n",
       "      <th>0</th>\n",
       "      <td>c2d766ca982eca8304150849735ffef9</td>\n",
       "      <td>2016-03-25 22:59:23 +0000</td>\n",
       "      <td>http://www.flipkart.com/alisha-solid-women-s-c...</td>\n",
       "      <td>Alisha Solid Women's Cycling Shorts</td>\n",
       "      <td>[\"Clothing &gt;&gt; Women's Clothing &gt;&gt; Lingerie, Sl...</td>\n",
       "      <td>SRTEH2FF9KEDEFGF</td>\n",
       "      <td>999.0</td>\n",
       "      <td>379.0</td>\n",
       "      <td>[\"http://img5a.flixcart.com/image/short/u/4/a/...</td>\n",
       "      <td>False</td>\n",
       "      <td>Key Features of Alisha Solid Women's Cycling S...</td>\n",
       "      <td>No rating available</td>\n",
       "      <td>No rating available</td>\n",
       "      <td>Alisha</td>\n",
       "      <td>{\"product_specification\"=&gt;[{\"key\"=&gt;\"Number of ...</td>\n",
       "    </tr>\n",
       "    <tr>\n",
       "      <th>1</th>\n",
       "      <td>7f7036a6d550aaa89d34c77bd39a5e48</td>\n",
       "      <td>2016-03-25 22:59:23 +0000</td>\n",
       "      <td>http://www.flipkart.com/fabhomedecor-fabric-do...</td>\n",
       "      <td>FabHomeDecor Fabric Double Sofa Bed</td>\n",
       "      <td>[\"Furniture &gt;&gt; Living Room Furniture &gt;&gt; Sofa B...</td>\n",
       "      <td>SBEEH3QGU7MFYJFY</td>\n",
       "      <td>32157.0</td>\n",
       "      <td>22646.0</td>\n",
       "      <td>[\"http://img6a.flixcart.com/image/sofa-bed/j/f...</td>\n",
       "      <td>False</td>\n",
       "      <td>FabHomeDecor Fabric Double Sofa Bed (Finish Co...</td>\n",
       "      <td>No rating available</td>\n",
       "      <td>No rating available</td>\n",
       "      <td>FabHomeDecor</td>\n",
       "      <td>{\"product_specification\"=&gt;[{\"key\"=&gt;\"Installati...</td>\n",
       "    </tr>\n",
       "    <tr>\n",
       "      <th>2</th>\n",
       "      <td>f449ec65dcbc041b6ae5e6a32717d01b</td>\n",
       "      <td>2016-03-25 22:59:23 +0000</td>\n",
       "      <td>http://www.flipkart.com/aw-bellies/p/itmeh4grg...</td>\n",
       "      <td>AW Bellies</td>\n",
       "      <td>[\"Footwear &gt;&gt; Women's Footwear &gt;&gt; Ballerinas &gt;...</td>\n",
       "      <td>SHOEH4GRSUBJGZXE</td>\n",
       "      <td>999.0</td>\n",
       "      <td>499.0</td>\n",
       "      <td>[\"http://img5a.flixcart.com/image/shoe/7/z/z/r...</td>\n",
       "      <td>False</td>\n",
       "      <td>Key Features of AW Bellies Sandals Wedges Heel...</td>\n",
       "      <td>No rating available</td>\n",
       "      <td>No rating available</td>\n",
       "      <td>AW</td>\n",
       "      <td>{\"product_specification\"=&gt;[{\"key\"=&gt;\"Ideal For\"...</td>\n",
       "    </tr>\n",
       "    <tr>\n",
       "      <th>3</th>\n",
       "      <td>0973b37acd0c664e3de26e97e5571454</td>\n",
       "      <td>2016-03-25 22:59:23 +0000</td>\n",
       "      <td>http://www.flipkart.com/alisha-solid-women-s-c...</td>\n",
       "      <td>Alisha Solid Women's Cycling Shorts</td>\n",
       "      <td>[\"Clothing &gt;&gt; Women's Clothing &gt;&gt; Lingerie, Sl...</td>\n",
       "      <td>SRTEH2F6HUZMQ6SJ</td>\n",
       "      <td>699.0</td>\n",
       "      <td>267.0</td>\n",
       "      <td>[\"http://img5a.flixcart.com/image/short/6/2/h/...</td>\n",
       "      <td>False</td>\n",
       "      <td>Key Features of Alisha Solid Women's Cycling S...</td>\n",
       "      <td>No rating available</td>\n",
       "      <td>No rating available</td>\n",
       "      <td>Alisha</td>\n",
       "      <td>{\"product_specification\"=&gt;[{\"key\"=&gt;\"Number of ...</td>\n",
       "    </tr>\n",
       "    <tr>\n",
       "      <th>4</th>\n",
       "      <td>bc940ea42ee6bef5ac7cea3fb5cfbee7</td>\n",
       "      <td>2016-03-25 22:59:23 +0000</td>\n",
       "      <td>http://www.flipkart.com/sicons-all-purpose-arn...</td>\n",
       "      <td>Sicons All Purpose Arnica Dog Shampoo</td>\n",
       "      <td>[\"Pet Supplies &gt;&gt; Grooming &gt;&gt; Skin &amp; Coat Care...</td>\n",
       "      <td>PSOEH3ZYDMSYARJ5</td>\n",
       "      <td>220.0</td>\n",
       "      <td>210.0</td>\n",
       "      <td>[\"http://img5a.flixcart.com/image/pet-shampoo/...</td>\n",
       "      <td>False</td>\n",
       "      <td>Specifications of Sicons All Purpose Arnica Do...</td>\n",
       "      <td>No rating available</td>\n",
       "      <td>No rating available</td>\n",
       "      <td>Sicons</td>\n",
       "      <td>{\"product_specification\"=&gt;[{\"key\"=&gt;\"Pet Type\",...</td>\n",
       "    </tr>\n",
       "  </tbody>\n",
       "</table>\n",
       "</div>"
      ],
      "text/plain": [
       "                            uniq_id            crawl_timestamp  \\\n",
       "0  c2d766ca982eca8304150849735ffef9  2016-03-25 22:59:23 +0000   \n",
       "1  7f7036a6d550aaa89d34c77bd39a5e48  2016-03-25 22:59:23 +0000   \n",
       "2  f449ec65dcbc041b6ae5e6a32717d01b  2016-03-25 22:59:23 +0000   \n",
       "3  0973b37acd0c664e3de26e97e5571454  2016-03-25 22:59:23 +0000   \n",
       "4  bc940ea42ee6bef5ac7cea3fb5cfbee7  2016-03-25 22:59:23 +0000   \n",
       "\n",
       "                                         product_url  \\\n",
       "0  http://www.flipkart.com/alisha-solid-women-s-c...   \n",
       "1  http://www.flipkart.com/fabhomedecor-fabric-do...   \n",
       "2  http://www.flipkart.com/aw-bellies/p/itmeh4grg...   \n",
       "3  http://www.flipkart.com/alisha-solid-women-s-c...   \n",
       "4  http://www.flipkart.com/sicons-all-purpose-arn...   \n",
       "\n",
       "                            product_name  \\\n",
       "0    Alisha Solid Women's Cycling Shorts   \n",
       "1    FabHomeDecor Fabric Double Sofa Bed   \n",
       "2                             AW Bellies   \n",
       "3    Alisha Solid Women's Cycling Shorts   \n",
       "4  Sicons All Purpose Arnica Dog Shampoo   \n",
       "\n",
       "                               product_category_tree               pid  \\\n",
       "0  [\"Clothing >> Women's Clothing >> Lingerie, Sl...  SRTEH2FF9KEDEFGF   \n",
       "1  [\"Furniture >> Living Room Furniture >> Sofa B...  SBEEH3QGU7MFYJFY   \n",
       "2  [\"Footwear >> Women's Footwear >> Ballerinas >...  SHOEH4GRSUBJGZXE   \n",
       "3  [\"Clothing >> Women's Clothing >> Lingerie, Sl...  SRTEH2F6HUZMQ6SJ   \n",
       "4  [\"Pet Supplies >> Grooming >> Skin & Coat Care...  PSOEH3ZYDMSYARJ5   \n",
       "\n",
       "   retail_price  discounted_price  \\\n",
       "0         999.0             379.0   \n",
       "1       32157.0           22646.0   \n",
       "2         999.0             499.0   \n",
       "3         699.0             267.0   \n",
       "4         220.0             210.0   \n",
       "\n",
       "                                               image  is_FK_Advantage_product  \\\n",
       "0  [\"http://img5a.flixcart.com/image/short/u/4/a/...                    False   \n",
       "1  [\"http://img6a.flixcart.com/image/sofa-bed/j/f...                    False   \n",
       "2  [\"http://img5a.flixcart.com/image/shoe/7/z/z/r...                    False   \n",
       "3  [\"http://img5a.flixcart.com/image/short/6/2/h/...                    False   \n",
       "4  [\"http://img5a.flixcart.com/image/pet-shampoo/...                    False   \n",
       "\n",
       "                                         description       product_rating  \\\n",
       "0  Key Features of Alisha Solid Women's Cycling S...  No rating available   \n",
       "1  FabHomeDecor Fabric Double Sofa Bed (Finish Co...  No rating available   \n",
       "2  Key Features of AW Bellies Sandals Wedges Heel...  No rating available   \n",
       "3  Key Features of Alisha Solid Women's Cycling S...  No rating available   \n",
       "4  Specifications of Sicons All Purpose Arnica Do...  No rating available   \n",
       "\n",
       "        overall_rating         brand  \\\n",
       "0  No rating available        Alisha   \n",
       "1  No rating available  FabHomeDecor   \n",
       "2  No rating available            AW   \n",
       "3  No rating available        Alisha   \n",
       "4  No rating available        Sicons   \n",
       "\n",
       "                              product_specifications  \n",
       "0  {\"product_specification\"=>[{\"key\"=>\"Number of ...  \n",
       "1  {\"product_specification\"=>[{\"key\"=>\"Installati...  \n",
       "2  {\"product_specification\"=>[{\"key\"=>\"Ideal For\"...  \n",
       "3  {\"product_specification\"=>[{\"key\"=>\"Number of ...  \n",
       "4  {\"product_specification\"=>[{\"key\"=>\"Pet Type\",...  "
      ]
     },
     "execution_count": 2,
     "metadata": {},
     "output_type": "execute_result"
    }
   ],
   "source": [
    "data = pd.read_csv('data/flipkart_com-ecommerce_sample.csv')\n",
    "data.head()"
   ]
  },
  {
   "cell_type": "code",
   "execution_count": 3,
   "id": "07af9712",
   "metadata": {},
   "outputs": [
    {
     "data": {
      "text/html": [
       "<div>\n",
       "<style scoped>\n",
       "    .dataframe tbody tr th:only-of-type {\n",
       "        vertical-align: middle;\n",
       "    }\n",
       "\n",
       "    .dataframe tbody tr th {\n",
       "        vertical-align: top;\n",
       "    }\n",
       "\n",
       "    .dataframe thead th {\n",
       "        text-align: right;\n",
       "    }\n",
       "</style>\n",
       "<table border=\"1\" class=\"dataframe\">\n",
       "  <thead>\n",
       "    <tr style=\"text-align: right;\">\n",
       "      <th></th>\n",
       "      <th>uniq_id</th>\n",
       "      <th>crawl_timestamp</th>\n",
       "      <th>product_url</th>\n",
       "      <th>product_name</th>\n",
       "      <th>product_category_tree</th>\n",
       "      <th>pid</th>\n",
       "      <th>retail_price</th>\n",
       "      <th>discounted_price</th>\n",
       "      <th>image</th>\n",
       "      <th>is_FK_Advantage_product</th>\n",
       "      <th>description</th>\n",
       "      <th>product_rating</th>\n",
       "      <th>overall_rating</th>\n",
       "      <th>brand</th>\n",
       "      <th>product_specifications</th>\n",
       "    </tr>\n",
       "  </thead>\n",
       "  <tbody>\n",
       "    <tr>\n",
       "      <th>9317</th>\n",
       "      <td>43b189c5bc53a0d6deb82d16177daba9</td>\n",
       "      <td>2016-05-10 11:57:25 +0000</td>\n",
       "      <td>http://www.flipkart.com/coirfit-single-coir-ma...</td>\n",
       "      <td>COIRFIT Single Coir Mattress</td>\n",
       "      <td>[\"COIRFIT Single Coir Mattress\"]</td>\n",
       "      <td>BEMEGFHSMHZYNZB8</td>\n",
       "      <td>10393.0</td>\n",
       "      <td>7794.0</td>\n",
       "      <td>[\"http://img5a.flixcart.com/image/bed-mattress...</td>\n",
       "      <td>False</td>\n",
       "      <td>Key Features of COIRFIT Single Coir Mattress S...</td>\n",
       "      <td>No rating available</td>\n",
       "      <td>No rating available</td>\n",
       "      <td>COIRFIT</td>\n",
       "      <td>{\"product_specification\"=&gt;[{\"value\"=&gt;\"1 MATTRE...</td>\n",
       "    </tr>\n",
       "  </tbody>\n",
       "</table>\n",
       "</div>"
      ],
      "text/plain": [
       "                               uniq_id            crawl_timestamp  \\\n",
       "9317  43b189c5bc53a0d6deb82d16177daba9  2016-05-10 11:57:25 +0000   \n",
       "\n",
       "                                            product_url  \\\n",
       "9317  http://www.flipkart.com/coirfit-single-coir-ma...   \n",
       "\n",
       "                      product_name             product_category_tree  \\\n",
       "9317  COIRFIT Single Coir Mattress  [\"COIRFIT Single Coir Mattress\"]   \n",
       "\n",
       "                   pid  retail_price  discounted_price  \\\n",
       "9317  BEMEGFHSMHZYNZB8       10393.0            7794.0   \n",
       "\n",
       "                                                  image  \\\n",
       "9317  [\"http://img5a.flixcart.com/image/bed-mattress...   \n",
       "\n",
       "      is_FK_Advantage_product  \\\n",
       "9317                    False   \n",
       "\n",
       "                                            description       product_rating  \\\n",
       "9317  Key Features of COIRFIT Single Coir Mattress S...  No rating available   \n",
       "\n",
       "           overall_rating    brand  \\\n",
       "9317  No rating available  COIRFIT   \n",
       "\n",
       "                                 product_specifications  \n",
       "9317  {\"product_specification\"=>[{\"value\"=>\"1 MATTRE...  "
      ]
     },
     "execution_count": 3,
     "metadata": {},
     "output_type": "execute_result"
    }
   ],
   "source": [
    "data.sample()"
   ]
  },
  {
   "cell_type": "code",
   "execution_count": 4,
   "id": "9ef737a2",
   "metadata": {},
   "outputs": [
    {
     "data": {
      "text/plain": [
       "Index(['uniq_id', 'crawl_timestamp', 'product_url', 'product_name',\n",
       "       'product_category_tree', 'pid', 'retail_price', 'discounted_price',\n",
       "       'image', 'is_FK_Advantage_product', 'description', 'product_rating',\n",
       "       'overall_rating', 'brand', 'product_specifications'],\n",
       "      dtype='object')"
      ]
     },
     "execution_count": 4,
     "metadata": {},
     "output_type": "execute_result"
    }
   ],
   "source": [
    "data.columns"
   ]
  },
  {
   "cell_type": "code",
   "execution_count": 5,
   "id": "5ec48d4d",
   "metadata": {},
   "outputs": [],
   "source": [
    "data = data.drop(['pid', 'crawl_timestamp', 'product_url', 'retail_price', 'discounted_price',\n",
    "       'image', 'is_FK_Advantage_product', 'product_rating','overall_rating','brand'],axis=1)"
   ]
  },
  {
   "cell_type": "code",
   "execution_count": 6,
   "id": "0e17ac96",
   "metadata": {},
   "outputs": [
    {
     "data": {
      "text/html": [
       "<div>\n",
       "<style scoped>\n",
       "    .dataframe tbody tr th:only-of-type {\n",
       "        vertical-align: middle;\n",
       "    }\n",
       "\n",
       "    .dataframe tbody tr th {\n",
       "        vertical-align: top;\n",
       "    }\n",
       "\n",
       "    .dataframe thead th {\n",
       "        text-align: right;\n",
       "    }\n",
       "</style>\n",
       "<table border=\"1\" class=\"dataframe\">\n",
       "  <thead>\n",
       "    <tr style=\"text-align: right;\">\n",
       "      <th></th>\n",
       "      <th>uniq_id</th>\n",
       "      <th>product_name</th>\n",
       "      <th>product_category_tree</th>\n",
       "      <th>description</th>\n",
       "      <th>product_specifications</th>\n",
       "    </tr>\n",
       "  </thead>\n",
       "  <tbody>\n",
       "    <tr>\n",
       "      <th>0</th>\n",
       "      <td>c2d766ca982eca8304150849735ffef9</td>\n",
       "      <td>Alisha Solid Women's Cycling Shorts</td>\n",
       "      <td>[\"Clothing &gt;&gt; Women's Clothing &gt;&gt; Lingerie, Sl...</td>\n",
       "      <td>Key Features of Alisha Solid Women's Cycling S...</td>\n",
       "      <td>{\"product_specification\"=&gt;[{\"key\"=&gt;\"Number of ...</td>\n",
       "    </tr>\n",
       "    <tr>\n",
       "      <th>1</th>\n",
       "      <td>7f7036a6d550aaa89d34c77bd39a5e48</td>\n",
       "      <td>FabHomeDecor Fabric Double Sofa Bed</td>\n",
       "      <td>[\"Furniture &gt;&gt; Living Room Furniture &gt;&gt; Sofa B...</td>\n",
       "      <td>FabHomeDecor Fabric Double Sofa Bed (Finish Co...</td>\n",
       "      <td>{\"product_specification\"=&gt;[{\"key\"=&gt;\"Installati...</td>\n",
       "    </tr>\n",
       "    <tr>\n",
       "      <th>2</th>\n",
       "      <td>f449ec65dcbc041b6ae5e6a32717d01b</td>\n",
       "      <td>AW Bellies</td>\n",
       "      <td>[\"Footwear &gt;&gt; Women's Footwear &gt;&gt; Ballerinas &gt;...</td>\n",
       "      <td>Key Features of AW Bellies Sandals Wedges Heel...</td>\n",
       "      <td>{\"product_specification\"=&gt;[{\"key\"=&gt;\"Ideal For\"...</td>\n",
       "    </tr>\n",
       "    <tr>\n",
       "      <th>3</th>\n",
       "      <td>0973b37acd0c664e3de26e97e5571454</td>\n",
       "      <td>Alisha Solid Women's Cycling Shorts</td>\n",
       "      <td>[\"Clothing &gt;&gt; Women's Clothing &gt;&gt; Lingerie, Sl...</td>\n",
       "      <td>Key Features of Alisha Solid Women's Cycling S...</td>\n",
       "      <td>{\"product_specification\"=&gt;[{\"key\"=&gt;\"Number of ...</td>\n",
       "    </tr>\n",
       "    <tr>\n",
       "      <th>4</th>\n",
       "      <td>bc940ea42ee6bef5ac7cea3fb5cfbee7</td>\n",
       "      <td>Sicons All Purpose Arnica Dog Shampoo</td>\n",
       "      <td>[\"Pet Supplies &gt;&gt; Grooming &gt;&gt; Skin &amp; Coat Care...</td>\n",
       "      <td>Specifications of Sicons All Purpose Arnica Do...</td>\n",
       "      <td>{\"product_specification\"=&gt;[{\"key\"=&gt;\"Pet Type\",...</td>\n",
       "    </tr>\n",
       "  </tbody>\n",
       "</table>\n",
       "</div>"
      ],
      "text/plain": [
       "                            uniq_id                           product_name  \\\n",
       "0  c2d766ca982eca8304150849735ffef9    Alisha Solid Women's Cycling Shorts   \n",
       "1  7f7036a6d550aaa89d34c77bd39a5e48    FabHomeDecor Fabric Double Sofa Bed   \n",
       "2  f449ec65dcbc041b6ae5e6a32717d01b                             AW Bellies   \n",
       "3  0973b37acd0c664e3de26e97e5571454    Alisha Solid Women's Cycling Shorts   \n",
       "4  bc940ea42ee6bef5ac7cea3fb5cfbee7  Sicons All Purpose Arnica Dog Shampoo   \n",
       "\n",
       "                               product_category_tree  \\\n",
       "0  [\"Clothing >> Women's Clothing >> Lingerie, Sl...   \n",
       "1  [\"Furniture >> Living Room Furniture >> Sofa B...   \n",
       "2  [\"Footwear >> Women's Footwear >> Ballerinas >...   \n",
       "3  [\"Clothing >> Women's Clothing >> Lingerie, Sl...   \n",
       "4  [\"Pet Supplies >> Grooming >> Skin & Coat Care...   \n",
       "\n",
       "                                         description  \\\n",
       "0  Key Features of Alisha Solid Women's Cycling S...   \n",
       "1  FabHomeDecor Fabric Double Sofa Bed (Finish Co...   \n",
       "2  Key Features of AW Bellies Sandals Wedges Heel...   \n",
       "3  Key Features of Alisha Solid Women's Cycling S...   \n",
       "4  Specifications of Sicons All Purpose Arnica Do...   \n",
       "\n",
       "                              product_specifications  \n",
       "0  {\"product_specification\"=>[{\"key\"=>\"Number of ...  \n",
       "1  {\"product_specification\"=>[{\"key\"=>\"Installati...  \n",
       "2  {\"product_specification\"=>[{\"key\"=>\"Ideal For\"...  \n",
       "3  {\"product_specification\"=>[{\"key\"=>\"Number of ...  \n",
       "4  {\"product_specification\"=>[{\"key\"=>\"Pet Type\",...  "
      ]
     },
     "execution_count": 6,
     "metadata": {},
     "output_type": "execute_result"
    }
   ],
   "source": [
    "data.head()"
   ]
  },
  {
   "cell_type": "code",
   "execution_count": 7,
   "id": "2bd0de51",
   "metadata": {},
   "outputs": [
    {
     "data": {
      "text/plain": [
       "20000"
      ]
     },
     "execution_count": 7,
     "metadata": {},
     "output_type": "execute_result"
    }
   ],
   "source": [
    "data['uniq_id'].nunique()"
   ]
  },
  {
   "cell_type": "code",
   "execution_count": 8,
   "id": "dac531aa",
   "metadata": {},
   "outputs": [
    {
     "data": {
      "text/plain": [
       "(20000, 5)"
      ]
     },
     "execution_count": 8,
     "metadata": {},
     "output_type": "execute_result"
    }
   ],
   "source": [
    "data.shape"
   ]
  },
  {
   "cell_type": "code",
   "execution_count": 9,
   "id": "83436930",
   "metadata": {
    "scrolled": true
   },
   "outputs": [
    {
     "data": {
      "text/plain": [
       "uniq_id                   object\n",
       "product_name              object\n",
       "product_category_tree     object\n",
       "description               object\n",
       "product_specifications    object\n",
       "dtype: object"
      ]
     },
     "execution_count": 9,
     "metadata": {},
     "output_type": "execute_result"
    }
   ],
   "source": [
    "data.dtypes"
   ]
  },
  {
   "cell_type": "code",
   "execution_count": 10,
   "id": "e60878d2",
   "metadata": {},
   "outputs": [
    {
     "data": {
      "text/plain": [
       "'[\"Clothing >> Women\\'s Clothing >> Lingerie, Sleep & Swimwear >> Shorts >> Alisha Shorts >> Alisha Solid Women\\'s Cycling Shorts\"]'"
      ]
     },
     "execution_count": 10,
     "metadata": {},
     "output_type": "execute_result"
    }
   ],
   "source": [
    "data['product_category_tree'][3]"
   ]
  },
  {
   "cell_type": "markdown",
   "id": "4f863e79",
   "metadata": {},
   "source": [
    "# Removing unnecessary symbols from String"
   ]
  },
  {
   "cell_type": "code",
   "execution_count": 11,
   "id": "38800ae0",
   "metadata": {},
   "outputs": [],
   "source": [
    "def repair(text):\n",
    "    text = str(text)\n",
    "    pattern = re.compile('[\\([{})\\]]')\n",
    "    text= pattern.sub(r'',text)\n",
    "    text = text.replace('\"','')\n",
    "    text = text.replace(',','')\n",
    "    text = text.replace('&','')\n",
    "    pattern = re.compile('>>')\n",
    "    return pattern.sub(r'',text)"
   ]
  },
  {
   "cell_type": "code",
   "execution_count": 12,
   "id": "70fca132",
   "metadata": {},
   "outputs": [
    {
     "data": {
      "text/plain": [
       "\"Clothing  Women's Clothing  Lingerie Sleep  Swimwear  Shorts  Alisha Shorts  Alisha Solid Women's Cycling Shorts\""
      ]
     },
     "execution_count": 12,
     "metadata": {},
     "output_type": "execute_result"
    }
   ],
   "source": [
    "repair('[\"Clothing >> Women\\'s Clothing >> Lingerie, Sleep & Swimwear >> Shorts >> Alisha Shorts >> Alisha Solid Women\\'s Cycling Shorts\"]')"
   ]
  },
  {
   "cell_type": "code",
   "execution_count": 13,
   "id": "d2e4b6f1",
   "metadata": {},
   "outputs": [],
   "source": [
    "data['product_category_tree'] = data['product_category_tree'].apply(repair)"
   ]
  },
  {
   "cell_type": "code",
   "execution_count": 14,
   "id": "fce755fa",
   "metadata": {},
   "outputs": [
    {
     "data": {
      "text/html": [
       "<div>\n",
       "<style scoped>\n",
       "    .dataframe tbody tr th:only-of-type {\n",
       "        vertical-align: middle;\n",
       "    }\n",
       "\n",
       "    .dataframe tbody tr th {\n",
       "        vertical-align: top;\n",
       "    }\n",
       "\n",
       "    .dataframe thead th {\n",
       "        text-align: right;\n",
       "    }\n",
       "</style>\n",
       "<table border=\"1\" class=\"dataframe\">\n",
       "  <thead>\n",
       "    <tr style=\"text-align: right;\">\n",
       "      <th></th>\n",
       "      <th>uniq_id</th>\n",
       "      <th>product_name</th>\n",
       "      <th>product_category_tree</th>\n",
       "      <th>description</th>\n",
       "      <th>product_specifications</th>\n",
       "    </tr>\n",
       "  </thead>\n",
       "  <tbody>\n",
       "    <tr>\n",
       "      <th>6106</th>\n",
       "      <td>a10481d82ca179722097bbd8e7a99899</td>\n",
       "      <td>Priya Exports Kitty Cat Art Fabric Pencil Box</td>\n",
       "      <td>Pens  Stationery  School Supplies  Geometry Pe...</td>\n",
       "      <td>Flipkart.com: Buy Priya Exports Kitty Cat Art ...</td>\n",
       "      <td>{\"product_specification\"=&gt;[{\"key\"=&gt;\"Model Name...</td>\n",
       "    </tr>\n",
       "    <tr>\n",
       "      <th>13677</th>\n",
       "      <td>ee039b88fd6714e9bd3b8bdb85f259a8</td>\n",
       "      <td>DailyObjects Back Cover for Apple iPad 2/3/4</td>\n",
       "      <td>Mobiles  Accessories  Tablet Accessories  Case...</td>\n",
       "      <td>DailyObjects Back Cover for Apple iPad 2/3/4 (...</td>\n",
       "      <td>{\"product_specification\"=&gt;[{\"key\"=&gt;\"Brand\", \"v...</td>\n",
       "    </tr>\n",
       "    <tr>\n",
       "      <th>6116</th>\n",
       "      <td>ceaf35514052ee9e7d3596981a804814</td>\n",
       "      <td>Jewelizer Alloy Necklace</td>\n",
       "      <td>Jewellery  Necklaces  Chains  Necklaces</td>\n",
       "      <td>Jewelizer Alloy Necklace - Buy Jewelizer Alloy...</td>\n",
       "      <td>{\"product_specification\"=&gt;[{\"key\"=&gt;\"Collection...</td>\n",
       "    </tr>\n",
       "  </tbody>\n",
       "</table>\n",
       "</div>"
      ],
      "text/plain": [
       "                                uniq_id  \\\n",
       "6106   a10481d82ca179722097bbd8e7a99899   \n",
       "13677  ee039b88fd6714e9bd3b8bdb85f259a8   \n",
       "6116   ceaf35514052ee9e7d3596981a804814   \n",
       "\n",
       "                                        product_name  \\\n",
       "6106   Priya Exports Kitty Cat Art Fabric Pencil Box   \n",
       "13677   DailyObjects Back Cover for Apple iPad 2/3/4   \n",
       "6116                        Jewelizer Alloy Necklace   \n",
       "\n",
       "                                   product_category_tree  \\\n",
       "6106   Pens  Stationery  School Supplies  Geometry Pe...   \n",
       "13677  Mobiles  Accessories  Tablet Accessories  Case...   \n",
       "6116             Jewellery  Necklaces  Chains  Necklaces   \n",
       "\n",
       "                                             description  \\\n",
       "6106   Flipkart.com: Buy Priya Exports Kitty Cat Art ...   \n",
       "13677  DailyObjects Back Cover for Apple iPad 2/3/4 (...   \n",
       "6116   Jewelizer Alloy Necklace - Buy Jewelizer Alloy...   \n",
       "\n",
       "                                  product_specifications  \n",
       "6106   {\"product_specification\"=>[{\"key\"=>\"Model Name...  \n",
       "13677  {\"product_specification\"=>[{\"key\"=>\"Brand\", \"v...  \n",
       "6116   {\"product_specification\"=>[{\"key\"=>\"Collection...  "
      ]
     },
     "execution_count": 14,
     "metadata": {},
     "output_type": "execute_result"
    }
   ],
   "source": [
    "data.sample(3)"
   ]
  },
  {
   "cell_type": "code",
   "execution_count": 15,
   "id": "df876232",
   "metadata": {},
   "outputs": [
    {
     "data": {
      "text/plain": [
       "\"Key Features of Alisha Solid Women's Cycling Shorts Cotton Lycra Navy, Red, Navy,Specifications of Alisha Solid Women's Cycling Shorts Shorts Details Number of Contents in Sales Package Pack of 3 Fabric Cotton Lycra Type Cycling Shorts General Details Pattern Solid Ideal For Women's Fabric Care Gentle Machine Wash in Lukewarm Water, Do Not Bleach Additional Details Style Code ALTHT_3P_21 In the Box 3 shorts\""
      ]
     },
     "execution_count": 15,
     "metadata": {},
     "output_type": "execute_result"
    }
   ],
   "source": [
    "data['description'][0]"
   ]
  },
  {
   "cell_type": "code",
   "execution_count": 16,
   "id": "4fe4e3b8",
   "metadata": {},
   "outputs": [
    {
     "data": {
      "text/plain": [
       "'{\"product_specification\"=>[{\"key\"=>\"Number of Contents in Sales Package\", \"value\"=>\"Pack of 3\"}, {\"key\"=>\"Fabric\", \"value\"=>\"Cotton Lycra\"}, {\"key\"=>\"Type\", \"value\"=>\"Cycling Shorts\"}, {\"key\"=>\"Pattern\", \"value\"=>\"Solid\"}, {\"key\"=>\"Ideal For\", \"value\"=>\"Women\\'s\"}, {\"value\"=>\"Gentle Machine Wash in Lukewarm Water, Do Not Bleach\"}, {\"key\"=>\"Style Code\", \"value\"=>\"ALTHT_3P_21\"}, {\"value\"=>\"3 shorts\"}]}'"
      ]
     },
     "execution_count": 16,
     "metadata": {},
     "output_type": "execute_result"
    }
   ],
   "source": [
    "data['product_specifications'][0]"
   ]
  },
  {
   "cell_type": "markdown",
   "id": "bc7c9e3c",
   "metadata": {},
   "source": [
    "# Dropping 'specs' because equivalent to Description"
   ]
  },
  {
   "cell_type": "code",
   "execution_count": 17,
   "id": "5236d9cc",
   "metadata": {},
   "outputs": [],
   "source": [
    "data = data.drop('product_specifications',axis=1)"
   ]
  },
  {
   "cell_type": "code",
   "execution_count": 18,
   "id": "3e723ebf",
   "metadata": {},
   "outputs": [
    {
     "data": {
      "text/html": [
       "<div>\n",
       "<style scoped>\n",
       "    .dataframe tbody tr th:only-of-type {\n",
       "        vertical-align: middle;\n",
       "    }\n",
       "\n",
       "    .dataframe tbody tr th {\n",
       "        vertical-align: top;\n",
       "    }\n",
       "\n",
       "    .dataframe thead th {\n",
       "        text-align: right;\n",
       "    }\n",
       "</style>\n",
       "<table border=\"1\" class=\"dataframe\">\n",
       "  <thead>\n",
       "    <tr style=\"text-align: right;\">\n",
       "      <th></th>\n",
       "      <th>uniq_id</th>\n",
       "      <th>product_name</th>\n",
       "      <th>product_category_tree</th>\n",
       "      <th>description</th>\n",
       "    </tr>\n",
       "  </thead>\n",
       "  <tbody>\n",
       "    <tr>\n",
       "      <th>0</th>\n",
       "      <td>c2d766ca982eca8304150849735ffef9</td>\n",
       "      <td>Alisha Solid Women's Cycling Shorts</td>\n",
       "      <td>Clothing  Women's Clothing  Lingerie Sleep  Sw...</td>\n",
       "      <td>Key Features of Alisha Solid Women's Cycling S...</td>\n",
       "    </tr>\n",
       "    <tr>\n",
       "      <th>1</th>\n",
       "      <td>7f7036a6d550aaa89d34c77bd39a5e48</td>\n",
       "      <td>FabHomeDecor Fabric Double Sofa Bed</td>\n",
       "      <td>Furniture  Living Room Furniture  Sofa Beds  F...</td>\n",
       "      <td>FabHomeDecor Fabric Double Sofa Bed (Finish Co...</td>\n",
       "    </tr>\n",
       "    <tr>\n",
       "      <th>2</th>\n",
       "      <td>f449ec65dcbc041b6ae5e6a32717d01b</td>\n",
       "      <td>AW Bellies</td>\n",
       "      <td>Footwear  Women's Footwear  Ballerinas  AW Bel...</td>\n",
       "      <td>Key Features of AW Bellies Sandals Wedges Heel...</td>\n",
       "    </tr>\n",
       "    <tr>\n",
       "      <th>3</th>\n",
       "      <td>0973b37acd0c664e3de26e97e5571454</td>\n",
       "      <td>Alisha Solid Women's Cycling Shorts</td>\n",
       "      <td>Clothing  Women's Clothing  Lingerie Sleep  Sw...</td>\n",
       "      <td>Key Features of Alisha Solid Women's Cycling S...</td>\n",
       "    </tr>\n",
       "    <tr>\n",
       "      <th>4</th>\n",
       "      <td>bc940ea42ee6bef5ac7cea3fb5cfbee7</td>\n",
       "      <td>Sicons All Purpose Arnica Dog Shampoo</td>\n",
       "      <td>Pet Supplies  Grooming  Skin  Coat Care  Shamp...</td>\n",
       "      <td>Specifications of Sicons All Purpose Arnica Do...</td>\n",
       "    </tr>\n",
       "  </tbody>\n",
       "</table>\n",
       "</div>"
      ],
      "text/plain": [
       "                            uniq_id                           product_name  \\\n",
       "0  c2d766ca982eca8304150849735ffef9    Alisha Solid Women's Cycling Shorts   \n",
       "1  7f7036a6d550aaa89d34c77bd39a5e48    FabHomeDecor Fabric Double Sofa Bed   \n",
       "2  f449ec65dcbc041b6ae5e6a32717d01b                             AW Bellies   \n",
       "3  0973b37acd0c664e3de26e97e5571454    Alisha Solid Women's Cycling Shorts   \n",
       "4  bc940ea42ee6bef5ac7cea3fb5cfbee7  Sicons All Purpose Arnica Dog Shampoo   \n",
       "\n",
       "                               product_category_tree  \\\n",
       "0  Clothing  Women's Clothing  Lingerie Sleep  Sw...   \n",
       "1  Furniture  Living Room Furniture  Sofa Beds  F...   \n",
       "2  Footwear  Women's Footwear  Ballerinas  AW Bel...   \n",
       "3  Clothing  Women's Clothing  Lingerie Sleep  Sw...   \n",
       "4  Pet Supplies  Grooming  Skin  Coat Care  Shamp...   \n",
       "\n",
       "                                         description  \n",
       "0  Key Features of Alisha Solid Women's Cycling S...  \n",
       "1  FabHomeDecor Fabric Double Sofa Bed (Finish Co...  \n",
       "2  Key Features of AW Bellies Sandals Wedges Heel...  \n",
       "3  Key Features of Alisha Solid Women's Cycling S...  \n",
       "4  Specifications of Sicons All Purpose Arnica Do...  "
      ]
     },
     "execution_count": 18,
     "metadata": {},
     "output_type": "execute_result"
    }
   ],
   "source": [
    "data.head()"
   ]
  },
  {
   "cell_type": "markdown",
   "id": "ab2b1868",
   "metadata": {},
   "source": [
    "# Creating a new column"
   ]
  },
  {
   "cell_type": "code",
   "execution_count": 19,
   "id": "e96b50fa",
   "metadata": {},
   "outputs": [],
   "source": [
    "data['desc'] = data['product_category_tree']+data['description']"
   ]
  },
  {
   "cell_type": "code",
   "execution_count": 20,
   "id": "fc1d2f1e",
   "metadata": {},
   "outputs": [
    {
     "data": {
      "text/plain": [
       "\"Clothing  Women's Clothing  Lingerie Sleep  Swimwear  Shorts  Alisha Shorts  Alisha Solid Women's Cycling ShortsKey Features of Alisha Solid Women's Cycling Shorts Cotton Lycra Navy, Red, Navy,Specifications of Alisha Solid Women's Cycling Shorts Shorts Details Number of Contents in Sales Package Pack of 3 Fabric Cotton Lycra Type Cycling Shorts General Details Pattern Solid Ideal For Women's Fabric Care Gentle Machine Wash in Lukewarm Water, Do Not Bleach Additional Details Style Code ALTHT_3P_21 In the Box 3 shorts\""
      ]
     },
     "execution_count": 20,
     "metadata": {},
     "output_type": "execute_result"
    }
   ],
   "source": [
    "data['desc'][0]"
   ]
  },
  {
   "cell_type": "code",
   "execution_count": 21,
   "id": "a21fd6d2",
   "metadata": {},
   "outputs": [],
   "source": [
    "data = data.drop(['product_category_tree','description'],axis=1)"
   ]
  },
  {
   "cell_type": "code",
   "execution_count": 22,
   "id": "bad59187",
   "metadata": {},
   "outputs": [
    {
     "data": {
      "text/html": [
       "<div>\n",
       "<style scoped>\n",
       "    .dataframe tbody tr th:only-of-type {\n",
       "        vertical-align: middle;\n",
       "    }\n",
       "\n",
       "    .dataframe tbody tr th {\n",
       "        vertical-align: top;\n",
       "    }\n",
       "\n",
       "    .dataframe thead th {\n",
       "        text-align: right;\n",
       "    }\n",
       "</style>\n",
       "<table border=\"1\" class=\"dataframe\">\n",
       "  <thead>\n",
       "    <tr style=\"text-align: right;\">\n",
       "      <th></th>\n",
       "      <th>uniq_id</th>\n",
       "      <th>product_name</th>\n",
       "      <th>desc</th>\n",
       "    </tr>\n",
       "  </thead>\n",
       "  <tbody>\n",
       "    <tr>\n",
       "      <th>0</th>\n",
       "      <td>c2d766ca982eca8304150849735ffef9</td>\n",
       "      <td>Alisha Solid Women's Cycling Shorts</td>\n",
       "      <td>Clothing  Women's Clothing  Lingerie Sleep  Sw...</td>\n",
       "    </tr>\n",
       "    <tr>\n",
       "      <th>1</th>\n",
       "      <td>7f7036a6d550aaa89d34c77bd39a5e48</td>\n",
       "      <td>FabHomeDecor Fabric Double Sofa Bed</td>\n",
       "      <td>Furniture  Living Room Furniture  Sofa Beds  F...</td>\n",
       "    </tr>\n",
       "    <tr>\n",
       "      <th>2</th>\n",
       "      <td>f449ec65dcbc041b6ae5e6a32717d01b</td>\n",
       "      <td>AW Bellies</td>\n",
       "      <td>Footwear  Women's Footwear  Ballerinas  AW Bel...</td>\n",
       "    </tr>\n",
       "    <tr>\n",
       "      <th>3</th>\n",
       "      <td>0973b37acd0c664e3de26e97e5571454</td>\n",
       "      <td>Alisha Solid Women's Cycling Shorts</td>\n",
       "      <td>Clothing  Women's Clothing  Lingerie Sleep  Sw...</td>\n",
       "    </tr>\n",
       "    <tr>\n",
       "      <th>4</th>\n",
       "      <td>bc940ea42ee6bef5ac7cea3fb5cfbee7</td>\n",
       "      <td>Sicons All Purpose Arnica Dog Shampoo</td>\n",
       "      <td>Pet Supplies  Grooming  Skin  Coat Care  Shamp...</td>\n",
       "    </tr>\n",
       "  </tbody>\n",
       "</table>\n",
       "</div>"
      ],
      "text/plain": [
       "                            uniq_id                           product_name  \\\n",
       "0  c2d766ca982eca8304150849735ffef9    Alisha Solid Women's Cycling Shorts   \n",
       "1  7f7036a6d550aaa89d34c77bd39a5e48    FabHomeDecor Fabric Double Sofa Bed   \n",
       "2  f449ec65dcbc041b6ae5e6a32717d01b                             AW Bellies   \n",
       "3  0973b37acd0c664e3de26e97e5571454    Alisha Solid Women's Cycling Shorts   \n",
       "4  bc940ea42ee6bef5ac7cea3fb5cfbee7  Sicons All Purpose Arnica Dog Shampoo   \n",
       "\n",
       "                                                desc  \n",
       "0  Clothing  Women's Clothing  Lingerie Sleep  Sw...  \n",
       "1  Furniture  Living Room Furniture  Sofa Beds  F...  \n",
       "2  Footwear  Women's Footwear  Ballerinas  AW Bel...  \n",
       "3  Clothing  Women's Clothing  Lingerie Sleep  Sw...  \n",
       "4  Pet Supplies  Grooming  Skin  Coat Care  Shamp...  "
      ]
     },
     "execution_count": 22,
     "metadata": {},
     "output_type": "execute_result"
    }
   ],
   "source": [
    "data.head()"
   ]
  },
  {
   "cell_type": "markdown",
   "id": "704a2404",
   "metadata": {},
   "source": [
    "# Stemming : \n",
    "* Converting each word in string to its root form understandable universally"
   ]
  },
  {
   "cell_type": "code",
   "execution_count": 23,
   "id": "683136a4",
   "metadata": {},
   "outputs": [],
   "source": [
    "data['desc']= data['desc'].str.lower()"
   ]
  },
  {
   "cell_type": "code",
   "execution_count": 24,
   "id": "0280cdad",
   "metadata": {},
   "outputs": [],
   "source": [
    "def stemming(text):\n",
    "    text = str(text)\n",
    "    stemmer = PorterStemmer()\n",
    "    return \" \".join([stemmer.stem(word) for word in text.split()])"
   ]
  },
  {
   "cell_type": "code",
   "execution_count": 25,
   "id": "6ae8c4a9",
   "metadata": {},
   "outputs": [
    {
     "data": {
      "text/plain": [
       "uniq_id         object\n",
       "product_name    object\n",
       "desc            object\n",
       "dtype: object"
      ]
     },
     "execution_count": 25,
     "metadata": {},
     "output_type": "execute_result"
    }
   ],
   "source": [
    "data.dtypes"
   ]
  },
  {
   "cell_type": "code",
   "execution_count": 26,
   "id": "15df4f9c",
   "metadata": {},
   "outputs": [
    {
     "data": {
      "text/plain": [
       "\"cloth women' cloth lingeri sleep swimwear short alisha short alisha solid women' cycl shortskey featur of alisha solid women' cycl short cotton lycra navy, red, navy,specif of alisha solid women' cycl short short detail number of content in sale packag pack of 3 fabric cotton lycra type cycl short gener detail pattern solid ideal for women' fabric care gentl machin wash in lukewarm water, do not bleach addit detail style code altht_3p_21 in the box 3 short\""
      ]
     },
     "execution_count": 26,
     "metadata": {},
     "output_type": "execute_result"
    }
   ],
   "source": [
    "stemming(\"Clothing  Women's Clothing  Lingerie Sleep  Swimwear  Shorts  Alisha Shorts  Alisha Solid Women's Cycling ShortsKey Features of Alisha Solid Women's Cycling Shorts Cotton Lycra Navy, Red, Navy,Specifications of Alisha Solid Women's Cycling Shorts Shorts Details Number of Contents in Sales Package Pack of 3 Fabric Cotton Lycra Type Cycling Shorts General Details Pattern Solid Ideal For Women's Fabric Care Gentle Machine Wash in Lukewarm Water, Do Not Bleach Additional Details Style Code ALTHT_3P_21 In the Box 3 shorts\")"
   ]
  },
  {
   "cell_type": "code",
   "execution_count": 27,
   "id": "db38c091",
   "metadata": {},
   "outputs": [],
   "source": [
    "data['desc']= data['desc'].apply(stemming)"
   ]
  },
  {
   "cell_type": "code",
   "execution_count": 28,
   "id": "86065b3c",
   "metadata": {},
   "outputs": [
    {
     "data": {
      "text/html": [
       "<div>\n",
       "<style scoped>\n",
       "    .dataframe tbody tr th:only-of-type {\n",
       "        vertical-align: middle;\n",
       "    }\n",
       "\n",
       "    .dataframe tbody tr th {\n",
       "        vertical-align: top;\n",
       "    }\n",
       "\n",
       "    .dataframe thead th {\n",
       "        text-align: right;\n",
       "    }\n",
       "</style>\n",
       "<table border=\"1\" class=\"dataframe\">\n",
       "  <thead>\n",
       "    <tr style=\"text-align: right;\">\n",
       "      <th></th>\n",
       "      <th>uniq_id</th>\n",
       "      <th>product_name</th>\n",
       "      <th>desc</th>\n",
       "    </tr>\n",
       "  </thead>\n",
       "  <tbody>\n",
       "    <tr>\n",
       "      <th>0</th>\n",
       "      <td>c2d766ca982eca8304150849735ffef9</td>\n",
       "      <td>Alisha Solid Women's Cycling Shorts</td>\n",
       "      <td>cloth women' cloth lingeri sleep swimwear shor...</td>\n",
       "    </tr>\n",
       "    <tr>\n",
       "      <th>1</th>\n",
       "      <td>7f7036a6d550aaa89d34c77bd39a5e48</td>\n",
       "      <td>FabHomeDecor Fabric Double Sofa Bed</td>\n",
       "      <td>furnitur live room furnitur sofa bed futon fab...</td>\n",
       "    </tr>\n",
       "    <tr>\n",
       "      <th>2</th>\n",
       "      <td>f449ec65dcbc041b6ae5e6a32717d01b</td>\n",
       "      <td>AW Bellies</td>\n",
       "      <td>footwear women' footwear ballerina aw belliesk...</td>\n",
       "    </tr>\n",
       "    <tr>\n",
       "      <th>3</th>\n",
       "      <td>0973b37acd0c664e3de26e97e5571454</td>\n",
       "      <td>Alisha Solid Women's Cycling Shorts</td>\n",
       "      <td>cloth women' cloth lingeri sleep swimwear shor...</td>\n",
       "    </tr>\n",
       "    <tr>\n",
       "      <th>4</th>\n",
       "      <td>bc940ea42ee6bef5ac7cea3fb5cfbee7</td>\n",
       "      <td>Sicons All Purpose Arnica Dog Shampoo</td>\n",
       "      <td>pet suppli groom skin coat care shampoo sicon ...</td>\n",
       "    </tr>\n",
       "  </tbody>\n",
       "</table>\n",
       "</div>"
      ],
      "text/plain": [
       "                            uniq_id                           product_name  \\\n",
       "0  c2d766ca982eca8304150849735ffef9    Alisha Solid Women's Cycling Shorts   \n",
       "1  7f7036a6d550aaa89d34c77bd39a5e48    FabHomeDecor Fabric Double Sofa Bed   \n",
       "2  f449ec65dcbc041b6ae5e6a32717d01b                             AW Bellies   \n",
       "3  0973b37acd0c664e3de26e97e5571454    Alisha Solid Women's Cycling Shorts   \n",
       "4  bc940ea42ee6bef5ac7cea3fb5cfbee7  Sicons All Purpose Arnica Dog Shampoo   \n",
       "\n",
       "                                                desc  \n",
       "0  cloth women' cloth lingeri sleep swimwear shor...  \n",
       "1  furnitur live room furnitur sofa bed futon fab...  \n",
       "2  footwear women' footwear ballerina aw belliesk...  \n",
       "3  cloth women' cloth lingeri sleep swimwear shor...  \n",
       "4  pet suppli groom skin coat care shampoo sicon ...  "
      ]
     },
     "execution_count": 28,
     "metadata": {},
     "output_type": "execute_result"
    }
   ],
   "source": [
    "data.head()"
   ]
  },
  {
   "cell_type": "markdown",
   "id": "0bec41e0",
   "metadata": {},
   "source": [
    "# Giving index to each uniq_id"
   ]
  },
  {
   "cell_type": "code",
   "execution_count": 29,
   "id": "170eda10",
   "metadata": {},
   "outputs": [],
   "source": [
    "for i in range(0,20000):\n",
    "    data['uniq_id'][i] = i+1"
   ]
  },
  {
   "cell_type": "markdown",
   "id": "059725fc",
   "metadata": {},
   "source": [
    "# Function for recommending products"
   ]
  },
  {
   "cell_type": "code",
   "execution_count": 30,
   "id": "4241e0f8",
   "metadata": {},
   "outputs": [],
   "source": [
    "def recommend_products(product,similarity_model):\n",
    "    product_index = data[data['product_name'] == product].index[0]\n",
    "    distances = similarity_model[product_index]\n",
    "    product_list = sorted(list(enumerate(distances)),reverse=True,key=lambda x: x[1])[1:6]\n",
    "    output={}\n",
    "    name_list = []\n",
    "    sim_list = []\n",
    "    for x in product_list:\n",
    "        prod_name = data.iloc[x[0]].product_name\n",
    "        name_list.append(prod_name)\n",
    "        prod_sim = np.round((x[1]*100),2)\n",
    "        sim_list.append(prod_sim)\n",
    "        \n",
    "    print('Checked Product :::::   ',product)    \n",
    "    name_list=np.array(name_list)\n",
    "    sim_list=np.array(sim_list)\n",
    "    dat = np.reshape([[name_list],[sim_list]],(2,5))\n",
    "    df = pd.DataFrame(dat.T,columns=['Recommended Product','Similarity(%age)'],index=[0,1,2,3,4])\n",
    "    return df"
   ]
  },
  {
   "cell_type": "markdown",
   "id": "90e2bcc2",
   "metadata": {},
   "source": [
    "# TFIDF vectorizer"
   ]
  },
  {
   "cell_type": "code",
   "execution_count": 31,
   "id": "2db6e9d8",
   "metadata": {},
   "outputs": [],
   "source": [
    "vect_tfidf = TfidfVectorizer(max_features=5000,stop_words='english')"
   ]
  },
  {
   "cell_type": "code",
   "execution_count": 32,
   "id": "90e9604e",
   "metadata": {},
   "outputs": [],
   "source": [
    "fitter_tfidf = vect_tfidf.fit_transform(data['desc']).toarray()"
   ]
  },
  {
   "cell_type": "code",
   "execution_count": 33,
   "id": "3ea054d0",
   "metadata": {},
   "outputs": [
    {
     "name": "stderr",
     "output_type": "stream",
     "text": [
      "C:\\Users\\91700\\Desktop\\recommend\\env\\lib\\site-packages\\sklearn\\utils\\deprecation.py:87: FutureWarning: Function get_feature_names is deprecated; get_feature_names is deprecated in 1.0 and will be removed in 1.2. Please use get_feature_names_out instead.\n",
      "  warnings.warn(msg, category=FutureWarning)\n"
     ]
    },
    {
     "data": {
      "text/plain": [
       "'zyxel'"
      ]
     },
     "execution_count": 33,
     "metadata": {},
     "output_type": "execute_result"
    }
   ],
   "source": [
    "vect_tfidf.get_feature_names()[4999]"
   ]
  },
  {
   "cell_type": "markdown",
   "id": "6100f04c",
   "metadata": {},
   "source": [
    "# Cosine similarity:\n",
    "* gets similarity of each data item to all other \n",
    "* 20000 elements with all 20000"
   ]
  },
  {
   "cell_type": "code",
   "execution_count": 34,
   "id": "a98362e7",
   "metadata": {},
   "outputs": [],
   "source": [
    "similarity_tfidf = cosine_similarity(fitter_tfidf)"
   ]
  },
  {
   "cell_type": "code",
   "execution_count": 35,
   "id": "641161fa",
   "metadata": {},
   "outputs": [
    {
     "data": {
      "text/plain": [
       "array([1.        , 0.02509378, 0.04255086, ..., 0.0040208 , 0.00399641,\n",
       "       0.0040208 ])"
      ]
     },
     "execution_count": 35,
     "metadata": {},
     "output_type": "execute_result"
    }
   ],
   "source": [
    "similarity_tfidf[0]"
   ]
  },
  {
   "cell_type": "code",
   "execution_count": 36,
   "id": "7ce43047",
   "metadata": {},
   "outputs": [
    {
     "data": {
      "text/plain": [
       "(20000, 20000)"
      ]
     },
     "execution_count": 36,
     "metadata": {},
     "output_type": "execute_result"
    }
   ],
   "source": [
    "np.shape(similarity_tfidf)"
   ]
  },
  {
   "cell_type": "markdown",
   "id": "762c1685",
   "metadata": {},
   "source": [
    "# Enumerating similarity matrix"
   ]
  },
  {
   "cell_type": "code",
   "execution_count": 37,
   "id": "1169ac45",
   "metadata": {},
   "outputs": [
    {
     "data": {
      "text/plain": [
       "[(6, 0.98902755963913),\n",
       " (3, 0.9680745877374043),\n",
       " (9, 0.9624158492968882),\n",
       " (13, 0.9604502062072997),\n",
       " (15, 0.9599461287545704)]"
      ]
     },
     "execution_count": 37,
     "metadata": {},
     "output_type": "execute_result"
    }
   ],
   "source": [
    "sorted(list(enumerate(similarity_tfidf[0])),reverse=True,key=lambda x: x[1])[1:6]"
   ]
  },
  {
   "cell_type": "code",
   "execution_count": 38,
   "id": "52545102",
   "metadata": {},
   "outputs": [
    {
     "name": "stdout",
     "output_type": "stream",
     "text": [
      "Checked Product :::::    Sicons All Purpose Arnica Dog Shampoo\n"
     ]
    },
    {
     "data": {
      "text/html": [
       "<div>\n",
       "<style scoped>\n",
       "    .dataframe tbody tr th:only-of-type {\n",
       "        vertical-align: middle;\n",
       "    }\n",
       "\n",
       "    .dataframe tbody tr th {\n",
       "        vertical-align: top;\n",
       "    }\n",
       "\n",
       "    .dataframe thead th {\n",
       "        text-align: right;\n",
       "    }\n",
       "</style>\n",
       "<table border=\"1\" class=\"dataframe\">\n",
       "  <thead>\n",
       "    <tr style=\"text-align: right;\">\n",
       "      <th></th>\n",
       "      <th>Recommended Product</th>\n",
       "      <th>Similarity(%age)</th>\n",
       "    </tr>\n",
       "  </thead>\n",
       "  <tbody>\n",
       "    <tr>\n",
       "      <th>0</th>\n",
       "      <td>Sicons All Purpose Tea Tree Dog Shampoo</td>\n",
       "      <td>79.19</td>\n",
       "    </tr>\n",
       "    <tr>\n",
       "      <th>1</th>\n",
       "      <td>Sicons Conditioning Conditoner Dog Shampoo</td>\n",
       "      <td>76.81</td>\n",
       "    </tr>\n",
       "    <tr>\n",
       "      <th>2</th>\n",
       "      <td>TRESemme Naturals Vibrantly Smooth Shampoo</td>\n",
       "      <td>38.32</td>\n",
       "    </tr>\n",
       "    <tr>\n",
       "      <th>3</th>\n",
       "      <td>Magideal Raincoat for Dog</td>\n",
       "      <td>34.91</td>\n",
       "    </tr>\n",
       "    <tr>\n",
       "      <th>4</th>\n",
       "      <td>Four Paws Sweats for Cat, Dog</td>\n",
       "      <td>34.5</td>\n",
       "    </tr>\n",
       "  </tbody>\n",
       "</table>\n",
       "</div>"
      ],
      "text/plain": [
       "                          Recommended Product Similarity(%age)\n",
       "0     Sicons All Purpose Tea Tree Dog Shampoo            79.19\n",
       "1  Sicons Conditioning Conditoner Dog Shampoo            76.81\n",
       "2  TRESemme Naturals Vibrantly Smooth Shampoo            38.32\n",
       "3                   Magideal Raincoat for Dog            34.91\n",
       "4               Four Paws Sweats for Cat, Dog             34.5"
      ]
     },
     "execution_count": 38,
     "metadata": {},
     "output_type": "execute_result"
    }
   ],
   "source": [
    "s = 'Sicons All Purpose Arnica Dog Shampoo'\n",
    "recommend_products(s,similarity_tfidf)"
   ]
  },
  {
   "cell_type": "markdown",
   "id": "e9dc6800",
   "metadata": {},
   "source": [
    "# Similarity on a smaller Data\n",
    "* 5000 data points only"
   ]
  },
  {
   "cell_type": "code",
   "execution_count": 41,
   "id": "7663f34c",
   "metadata": {},
   "outputs": [],
   "source": [
    "data_small = data.iloc[:5000,:]"
   ]
  },
  {
   "cell_type": "code",
   "execution_count": 42,
   "id": "a0731826",
   "metadata": {},
   "outputs": [],
   "source": [
    "vect_tfidf = TfidfVectorizer(max_features=5000,stop_words='english')"
   ]
  },
  {
   "cell_type": "code",
   "execution_count": 43,
   "id": "b3a0f402",
   "metadata": {},
   "outputs": [],
   "source": [
    "fitter_tfidf = vect_tfidf.fit_transform(data_small['desc']).toarray()"
   ]
  },
  {
   "cell_type": "code",
   "execution_count": 44,
   "id": "3eafcef4",
   "metadata": {},
   "outputs": [
    {
     "name": "stderr",
     "output_type": "stream",
     "text": [
      "C:\\Users\\91700\\Desktop\\recommend\\env\\lib\\site-packages\\sklearn\\utils\\deprecation.py:87: FutureWarning: Function get_feature_names is deprecated; get_feature_names is deprecated in 1.0 and will be removed in 1.2. Please use get_feature_names_out instead.\n",
      "  warnings.warn(msg, category=FutureWarning)\n"
     ]
    },
    {
     "data": {
      "text/plain": [
       "'zyaden'"
      ]
     },
     "execution_count": 44,
     "metadata": {},
     "output_type": "execute_result"
    }
   ],
   "source": [
    "vect_tfidf.get_feature_names()[4999]"
   ]
  },
  {
   "cell_type": "code",
   "execution_count": 45,
   "id": "9e6722b3",
   "metadata": {},
   "outputs": [],
   "source": [
    "similarity_tfidf = cosine_similarity(fitter_tfidf)"
   ]
  },
  {
   "cell_type": "code",
   "execution_count": 46,
   "id": "5830ad99",
   "metadata": {},
   "outputs": [
    {
     "data": {
      "text/plain": [
       "array([1.        , 0.0278509 , 0.04735819, ..., 0.        , 0.        ,\n",
       "       0.        ])"
      ]
     },
     "execution_count": 46,
     "metadata": {},
     "output_type": "execute_result"
    }
   ],
   "source": [
    "similarity_tfidf[0]"
   ]
  },
  {
   "cell_type": "code",
   "execution_count": 47,
   "id": "0584bc4e",
   "metadata": {},
   "outputs": [
    {
     "data": {
      "text/plain": [
       "(5000, 5000)"
      ]
     },
     "execution_count": 47,
     "metadata": {},
     "output_type": "execute_result"
    }
   ],
   "source": [
    "np.shape(similarity_tfidf)"
   ]
  },
  {
   "cell_type": "code",
   "execution_count": 48,
   "id": "40061478",
   "metadata": {},
   "outputs": [
    {
     "data": {
      "text/plain": [
       "[(3, 0.9982197036822437),\n",
       " (6, 0.9956489017077094),\n",
       " (9, 0.9909875740274393),\n",
       " (13, 0.9885242348143827),\n",
       " (15, 0.9879090021202782)]"
      ]
     },
     "execution_count": 48,
     "metadata": {},
     "output_type": "execute_result"
    }
   ],
   "source": [
    "sorted(list(enumerate(similarity_tfidf[0])),reverse=True,key=lambda x: x[1])[1:6]"
   ]
  },
  {
   "cell_type": "code",
   "execution_count": 49,
   "id": "efe1e1e2",
   "metadata": {},
   "outputs": [
    {
     "name": "stdout",
     "output_type": "stream",
     "text": [
      "Checked Product :::::    Sicons All Purpose Arnica Dog Shampoo\n"
     ]
    },
    {
     "data": {
      "text/html": [
       "<div>\n",
       "<style scoped>\n",
       "    .dataframe tbody tr th:only-of-type {\n",
       "        vertical-align: middle;\n",
       "    }\n",
       "\n",
       "    .dataframe tbody tr th {\n",
       "        vertical-align: top;\n",
       "    }\n",
       "\n",
       "    .dataframe thead th {\n",
       "        text-align: right;\n",
       "    }\n",
       "</style>\n",
       "<table border=\"1\" class=\"dataframe\">\n",
       "  <thead>\n",
       "    <tr style=\"text-align: right;\">\n",
       "      <th></th>\n",
       "      <th>Recommended Product</th>\n",
       "      <th>Similarity(%age)</th>\n",
       "    </tr>\n",
       "  </thead>\n",
       "  <tbody>\n",
       "    <tr>\n",
       "      <th>0</th>\n",
       "      <td>Sicons All Purpose Tea Tree Dog Shampoo</td>\n",
       "      <td>74.61</td>\n",
       "    </tr>\n",
       "    <tr>\n",
       "      <th>1</th>\n",
       "      <td>Sicons Conditioning Conditoner Dog Shampoo</td>\n",
       "      <td>72.13</td>\n",
       "    </tr>\n",
       "    <tr>\n",
       "      <th>2</th>\n",
       "      <td>Pawzone Rubber Rubber Toy For Dog</td>\n",
       "      <td>20.27</td>\n",
       "    </tr>\n",
       "    <tr>\n",
       "      <th>3</th>\n",
       "      <td>Rockmantra Dog Ceramic Mug</td>\n",
       "      <td>20.03</td>\n",
       "    </tr>\n",
       "    <tr>\n",
       "      <th>4</th>\n",
       "      <td>Snug Hug Jute Chew Toy For Dog</td>\n",
       "      <td>18.77</td>\n",
       "    </tr>\n",
       "  </tbody>\n",
       "</table>\n",
       "</div>"
      ],
      "text/plain": [
       "                          Recommended Product Similarity(%age)\n",
       "0     Sicons All Purpose Tea Tree Dog Shampoo            74.61\n",
       "1  Sicons Conditioning Conditoner Dog Shampoo            72.13\n",
       "2           Pawzone Rubber Rubber Toy For Dog            20.27\n",
       "3                  Rockmantra Dog Ceramic Mug            20.03\n",
       "4              Snug Hug Jute Chew Toy For Dog            18.77"
      ]
     },
     "execution_count": 49,
     "metadata": {},
     "output_type": "execute_result"
    }
   ],
   "source": [
    "s = 'Sicons All Purpose Arnica Dog Shampoo'\n",
    "recommend_products(s,similarity_tfidf)"
   ]
  },
  {
   "cell_type": "code",
   "execution_count": 50,
   "id": "3915ef80",
   "metadata": {},
   "outputs": [],
   "source": [
    "#import pickle\n",
    "#pickle.dump(similarity_tfidf,open('similarity_tfidf.pkl','wb'))"
   ]
  },
  {
   "cell_type": "code",
   "execution_count": 53,
   "id": "6d5fa2d4",
   "metadata": {},
   "outputs": [
    {
     "name": "stdout",
     "output_type": "stream",
     "text": [
      "Checked Product :::::    Sicons All Purpose Arnica Dog Shampoo\n"
     ]
    }
   ],
   "source": [
    "df = recommend_products(s,similarity_tfidf)"
   ]
  },
  {
   "cell_type": "code",
   "execution_count": 63,
   "id": "5b889b4e",
   "metadata": {},
   "outputs": [],
   "source": [
    "df['Similarity(%age)']=df['Similarity(%age)'].astype('float')"
   ]
  },
  {
   "cell_type": "code",
   "execution_count": 64,
   "id": "006acd3c",
   "metadata": {},
   "outputs": [
    {
     "data": {
      "text/plain": [
       "Recommended Product     object\n",
       "Similarity(%age)       float64\n",
       "dtype: object"
      ]
     },
     "execution_count": 64,
     "metadata": {},
     "output_type": "execute_result"
    }
   ],
   "source": [
    "df.dtypes"
   ]
  },
  {
   "cell_type": "code",
   "execution_count": 68,
   "id": "d4744ece",
   "metadata": {},
   "outputs": [
    {
     "name": "stderr",
     "output_type": "stream",
     "text": [
      "C:\\Users\\91700\\Desktop\\recommend\\env\\lib\\site-packages\\seaborn\\_decorators.py:36: FutureWarning: Pass the following variables as keyword args: x, y. From version 0.12, the only valid positional argument will be `data`, and passing other arguments without an explicit keyword will result in an error or misinterpretation.\n",
      "  warnings.warn(\n"
     ]
    },
    {
     "data": {
      "image/png": "[encoded data removed]",
      "text/plain": [
       "<Figure size 432x288 with 1 Axes>"
      ]
     },
     "metadata": {
      "needs_background": "light"
     },
     "output_type": "display_data"
    }
   ],
   "source": [
    "ax = sns.barplot(df['Similarity(%age)'],df['Recommended Product'])\n",
    "ax.bar_label(ax.containers[0]);"
   ]
  },
  {
   "cell_type": "code",
   "execution_count": null,
   "id": "35c8c7fa",
   "metadata": {},
   "outputs": [],
   "source": []
  }
 ],
 "metadata": {
  "kernelspec": {
   "display_name": "Python 3 (ipykernel)",
   "language": "python",
   "name": "python3"
  },
  "language_info": {
   "codemirror_mode": {
    "name": "ipython",
    "version": 3
   },
   "file_extension": ".py",
   "mimetype": "text/x-python",
   "name": "python",
   "nbconvert_exporter": "python",
   "pygments_lexer": "ipython3",
   "version": "3.9.12"
  }
 },
 "nbformat": 4,
 "nbformat_minor": 5
}
